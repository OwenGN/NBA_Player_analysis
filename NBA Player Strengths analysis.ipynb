{
 "cells": [
  {
   "cell_type": "markdown",
   "id": "6fe31181",
   "metadata": {},
   "source": [
    "    The data in the boxscores and Anthropometrics files both go through an initial cleaning using MS excel, then uploaded into the mySQL server using MySQL workbench. For the Anthropometrics file, the data was based off of the NBA draft combine information for the years 2000 to 2023. For those who did not attend the combine, there wasn't information. Missing information for height and weight was collected from the internet and imputed using MS excel."
   ]
  },
  {
   "cell_type": "code",
   "execution_count": 1,
   "id": "f1c3544c",
   "metadata": {},
   "outputs": [],
   "source": [
    "import numpy as np\n",
    "import scipy\n",
    "from scipy import stats\n",
    "import sklearn\n",
    "import pandas as pd\n",
    "import seaborn as sns"
   ]
  },
  {
   "cell_type": "code",
   "execution_count": 2,
   "id": "a0cd9d8f",
   "metadata": {},
   "outputs": [],
   "source": [
    "box_scores = pd.read_csv('NBA-BoxScores-2023-2024.csv')\n",
    "#sorting the box scores by game_ID, team_ID and minutes played by player\n",
    "box_scores_sorted = box_scores.sort_values(['GAME_ID','TEAM_ID','MIN'])\n",
    "box_scores_sorted = box_scores_sorted.drop(['NICKNAME'],axis=1)"
   ]
  },
  {
   "cell_type": "code",
   "execution_count": 3,
   "id": "e245c2b5",
   "metadata": {},
   "outputs": [],
   "source": [
    "#this cell transforms the players registerred with 2 positions to just their first position\n",
    "anthropometrics = pd.read_csv('NBA_Anthropometric.csv')\n",
    "anthropometrics['position'] = anthropometrics['position'].str.split('/').str[0]"
   ]
  },
  {
   "cell_type": "markdown",
   "id": "8d622c70",
   "metadata": {},
   "source": [
    "Function to find the potential matchups for a given player\n",
    "psuedocode:\n",
    "box_scores and anthropometrics are the pandas dataframes.\n",
    "-given a player in box scores \n",
    "-find their position(guard or forward classification) in anthropometrics\n",
    "-in the opposition lineup find players with same position classification.\n",
    "-since the players are sorted by minutes played for the respective game and team in box_scores the opponents of interest for a player are ranked as follows: the player whose rank in minutes played is equal to player of interest is ranked first opponent of interest, ranked second would be the one with one rank higher minutes and third ranked would be the one with one rank lower minutes played.\n",
    "-Incase the player is the highest ranked by minutes consider the two players with ranks below equivalent opponent to be 2 and 3 in matchup ranks.\n",
    "-and if lowest minutes played consider 2nd last and 3rd last for opponents"
   ]
  },
  {
   "cell_type": "code",
   "execution_count": 4,
   "id": "a4548a52",
   "metadata": {},
   "outputs": [
    {
     "data": {
      "text/html": [
       "<div>\n",
       "<style scoped>\n",
       "    .dataframe tbody tr th:only-of-type {\n",
       "        vertical-align: middle;\n",
       "    }\n",
       "\n",
       "    .dataframe tbody tr th {\n",
       "        vertical-align: top;\n",
       "    }\n",
       "\n",
       "    .dataframe thead th {\n",
       "        text-align: right;\n",
       "    }\n",
       "</style>\n",
       "<table border=\"1\" class=\"dataframe\">\n",
       "  <thead>\n",
       "    <tr style=\"text-align: right;\">\n",
       "      <th></th>\n",
       "      <th>player_name</th>\n",
       "      <th>position</th>\n",
       "      <th>height</th>\n",
       "      <th>height_with_shoes</th>\n",
       "      <th>weight</th>\n",
       "      <th>wingspan</th>\n",
       "      <th>draft_year</th>\n",
       "    </tr>\n",
       "  </thead>\n",
       "  <tbody>\n",
       "  </tbody>\n",
       "</table>\n",
       "</div>"
      ],
      "text/plain": [
       "Empty DataFrame\n",
       "Columns: [player_name, position, height, height_with_shoes, weight, wingspan, draft_year]\n",
       "Index: []"
      ]
     },
     "execution_count": 4,
     "metadata": {},
     "output_type": "execute_result"
    }
   ],
   "source": [
    "player_position = anthropometrics.loc[anthropometrics['player_name'] == 'Jonas Valanciunas', 'position'].values\n",
    "anthropometrics[anthropometrics['player_name'] == 'Jonas Valanciunas']"
   ]
  },
  {
   "cell_type": "code",
   "execution_count": 5,
   "id": "f1b29aec",
   "metadata": {},
   "outputs": [],
   "source": [
    "def Opponents_of_interest(playerName, gameID, box_scores, anthropometrics):\n",
    "    # Find the player's position in the anthropometrics DataFrame\n",
    "    player_position = anthropometrics.loc[anthropometrics['player_name'] == playerName,\n",
    "                                          'position'].values[0]\n",
    "\n",
    "    # Find the game and team for the given player in the box_scores DataFrame\n",
    "    team = box_scores[(box_scores['PLAYER_NAME'] == playerName) & (box_scores['GAME_ID'] == gameID)\n",
    "                     ]['TEAM_ABBREVIATION'].values[0]\n",
    "    #the minutes a player played in the given game\n",
    "    playerMinutes = box_scores[(box_scores['PLAYER_NAME'] == playerName) & (box_scores['GAME_ID'] == gameID)\n",
    "                     ]['MIN'].values[0]\n",
    "\n",
    "    # Get the opposition lineup with the same position classification\n",
    "    \"\"\"If they have the same gameID in box_scores dataset and they are on oppo and their position \n",
    "    is in the list associated with the player of interest's in the PositionMatchup dictionary then \n",
    "    they qualify to be in the players matchups then they are ranked by minutes played\"\"\"\n",
    "    \n",
    "    #dictionary with the NBA positions and their corresponding likely matchups ranked in likelihood\n",
    "    PositionMatchup = {'PG': ['PG','SG','SF'], 'SG':['SG','SF','PG'], 'SF':['SF','PF','SG'], \n",
    "                   'PF':['PF','C','SF'], 'C':['C','PF','SF']}\n",
    "    #df of all the players of the opponent team\n",
    "    oppositionMatchups = box_scores[(box_scores['GAME_ID'] == gameID) & (\n",
    "        box_scores['TEAM_ABBREVIATION'] != team)]\n",
    "    #the absolute difference between minutes played by players in the opponent team and the player of interest sorted from\n",
    "    #least minute difference to most\n",
    "    oppositionMatchups['minutesDifference'] = abs(oppositionMatchups['MIN'] - playerMinutes)\n",
    "    oppositionMatchups.sort_values(by='minutesDifference')\n",
    "    #list of opposition players who meet the position matchup criteria ranked from least minutes difference to most with\n",
    "    #player of interest\n",
    "    opps = []\n",
    "    for opp in oppositionMatchups['PLAYER_NAME']:\n",
    "        player_position_data = anthropometrics.loc[anthropometrics['player_name'\n",
    "                                                                  ] == opp, 'position'].values\n",
    "        if player_position_data.size > 0 and player_position_data[0] in PositionMatchup[\n",
    "            player_position]:\n",
    "            opps.append((opp))\n",
    "    return opps"
   ]
  },
  {
   "cell_type": "code",
   "execution_count": 20,
   "id": "e3b6f7ec",
   "metadata": {},
   "outputs": [
    {
     "name": "stdout",
     "output_type": "stream",
     "text": [
      "['Zion Williamson', 'Herbert Jones', 'Naji Marshall', 'Trey Murphy III', 'Cody Zeller', 'Jeremiah Robinson-Earl']\n"
     ]
    },
    {
     "name": "stderr",
     "output_type": "stream",
     "text": [
      "C:\\Users\\guman\\AppData\\Local\\Temp\\ipykernel_13900\\1997756808.py:26: SettingWithCopyWarning: \n",
      "A value is trying to be set on a copy of a slice from a DataFrame.\n",
      "Try using .loc[row_indexer,col_indexer] = value instead\n",
      "\n",
      "See the caveats in the documentation: https://pandas.pydata.org/pandas-docs/stable/user_guide/indexing.html#returning-a-view-versus-a-copy\n",
      "  oppositionMatchups['minutesDifference'] = abs(oppositionMatchups['MIN'] - playerMinutes)\n"
     ]
    }
   ],
   "source": [
    "opps = Opponents_of_interest('Anthony Davis', 22301230, box_scores, anthropometrics)\n",
    "oppsWeighted = [[string, len(opps) - i] for i, string in enumerate(opps)]\n",
    "print(opps)"
   ]
  },
  {
   "cell_type": "code",
   "execution_count": 22,
   "id": "4b2a29b9",
   "metadata": {},
   "outputs": [
    {
     "name": "stdout",
     "output_type": "stream",
     "text": [
      "                 player_name  height  weight  wingspan\n",
      "624          Trey Murphy III  201.93   93.44    213.36\n",
      "633            Herbert Jones  198.12   93.62    214.00\n",
      "1170             Cody Zeller  210.18  104.33    210.18\n",
      "1229           Naji Marshall  197.48  105.91    215.26\n",
      "1383  Jeremiah Robinson-Earl  202.56  109.95    207.64\n",
      "1467         Zion Williamson  198.12  128.80    209.55\n"
     ]
    }
   ],
   "source": [
    "#function to retrieve opposition players anthropometrics and stats of interest\n",
    "print(anthropometrics[anthropometrics['player_name'].isin(opps)].drop(['position','height_with_shoes','draft_year'],axis=1))"
   ]
  }
 ],
 "metadata": {
  "kernelspec": {
   "display_name": "Python 3 (ipykernel)",
   "language": "python",
   "name": "python3"
  },
  "language_info": {
   "codemirror_mode": {
    "name": "ipython",
    "version": 3
   },
   "file_extension": ".py",
   "mimetype": "text/x-python",
   "name": "python",
   "nbconvert_exporter": "python",
   "pygments_lexer": "ipython3",
   "version": "3.11.5"
  }
 },
 "nbformat": 4,
 "nbformat_minor": 5
}
